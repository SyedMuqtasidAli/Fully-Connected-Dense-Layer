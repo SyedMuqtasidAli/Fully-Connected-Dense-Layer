{
  "nbformat": 4,
  "nbformat_minor": 0,
  "metadata": {
    "colab": {
      "provenance": []
    },
    "kernelspec": {
      "name": "python3",
      "display_name": "Python 3"
    },
    "language_info": {
      "name": "python"
    }
  },
  "cells": [
    {
      "cell_type": "code",
      "execution_count": 82,
      "metadata": {
        "id": "iuwKEuINML47"
      },
      "outputs": [],
      "source": [
        "from keras.datasets import mnist"
      ]
    },
    {
      "cell_type": "code",
      "source": [
        "(train_images,train_labels),(test_images,test_label)= mnist.load_data()"
      ],
      "metadata": {
        "id": "BcCWdTLRMX8O"
      },
      "execution_count": 83,
      "outputs": []
    },
    {
      "cell_type": "code",
      "source": [
        "train_images.shape"
      ],
      "metadata": {
        "colab": {
          "base_uri": "https://localhost:8080/"
        },
        "id": "cABIj0DsMvpa",
        "outputId": "0911a64a-d6dd-4e9c-dc19-848cb9935923"
      },
      "execution_count": 84,
      "outputs": [
        {
          "output_type": "execute_result",
          "data": {
            "text/plain": [
              "(60000, 28, 28)"
            ]
          },
          "metadata": {},
          "execution_count": 84
        }
      ]
    },
    {
      "cell_type": "code",
      "source": [
        "test_images.shape"
      ],
      "metadata": {
        "colab": {
          "base_uri": "https://localhost:8080/"
        },
        "id": "6rwl-pU9NCrm",
        "outputId": "efa3f83f-0851-4aef-cba0-a0c83b5b1c17"
      },
      "execution_count": 85,
      "outputs": [
        {
          "output_type": "execute_result",
          "data": {
            "text/plain": [
              "(10000, 28, 28)"
            ]
          },
          "metadata": {},
          "execution_count": 85
        }
      ]
    },
    {
      "cell_type": "code",
      "source": [
        "train_images= train_images.reshape((60000,28*28))\n",
        "train_images = train_images.astype('float32')/255\n",
        "test_images = test_images.reshape((10000,28*28))\n",
        "test_images= test_images.astype('float32')/255"
      ],
      "metadata": {
        "id": "HjhjuinuTQIt"
      },
      "execution_count": 86,
      "outputs": []
    },
    {
      "cell_type": "code",
      "source": [
        "from keras.utils.np_utils import to_categorical\n",
        "train_labels= to_categorical(train_labels)\n",
        "test_label= to_categorical(test_label)"
      ],
      "metadata": {
        "id": "3e08_pfFTSb6"
      },
      "execution_count": 87,
      "outputs": []
    },
    {
      "cell_type": "code",
      "source": [
        "from keras import models"
      ],
      "metadata": {
        "id": "4SkdJoeONGC2"
      },
      "execution_count": 88,
      "outputs": []
    },
    {
      "cell_type": "code",
      "source": [
        "from keras import layers"
      ],
      "metadata": {
        "id": "bwi-TchnNJkw"
      },
      "execution_count": 89,
      "outputs": []
    },
    {
      "cell_type": "code",
      "source": [
        "network = models.Sequential()\n",
        "network.add(layers.Dense(512,activation='relu',input_shape=(28*28,)))\n",
        "network.add(layers.Dense(10,activation='softmax'))"
      ],
      "metadata": {
        "id": "knNDvQjJNiTb"
      },
      "execution_count": 90,
      "outputs": []
    },
    {
      "cell_type": "code",
      "source": [
        "network.compile(\n",
        "    optimizer='rmsprop',\n",
        "    loss='categorical_crossentropy',\n",
        "    metrics= [\"accuracy\"]\n",
        ")"
      ],
      "metadata": {
        "id": "xNiqs0LWN4eD"
      },
      "execution_count": 91,
      "outputs": []
    },
    {
      "cell_type": "code",
      "source": [
        "network.fit(train_images,\n",
        "            train_labels,\n",
        "            epochs=5,\n",
        "            batch_size=128\n",
        ")"
      ],
      "metadata": {
        "colab": {
          "base_uri": "https://localhost:8080/"
        },
        "id": "1OBcxZjQP0Pv",
        "outputId": "f6728e29-d0e3-46b7-f62e-ff1b3a3090ce"
      },
      "execution_count": 92,
      "outputs": [
        {
          "output_type": "stream",
          "name": "stdout",
          "text": [
            "Epoch 1/5\n",
            "469/469 [==============================] - 6s 11ms/step - loss: 0.2604 - accuracy: 0.9265\n",
            "Epoch 2/5\n",
            "469/469 [==============================] - 6s 13ms/step - loss: 0.1075 - accuracy: 0.9686\n",
            "Epoch 3/5\n",
            "469/469 [==============================] - 5s 10ms/step - loss: 0.0706 - accuracy: 0.9792\n",
            "Epoch 4/5\n",
            "469/469 [==============================] - 6s 13ms/step - loss: 0.0516 - accuracy: 0.9846\n",
            "Epoch 5/5\n",
            "469/469 [==============================] - 5s 10ms/step - loss: 0.0386 - accuracy: 0.9886\n"
          ]
        },
        {
          "output_type": "execute_result",
          "data": {
            "text/plain": [
              "<keras.callbacks.History at 0x7fcedc53d060>"
            ]
          },
          "metadata": {},
          "execution_count": 92
        }
      ]
    },
    {
      "cell_type": "code",
      "source": [
        "test_loss,test_acc= network.evaluate(test_images,test_label)\n",
        "print(\"Test Accuracy:\",test_acc)"
      ],
      "metadata": {
        "colab": {
          "base_uri": "https://localhost:8080/"
        },
        "id": "O0mCGHDvQkET",
        "outputId": "1136b811-2acb-48a1-c162-258595dd4039"
      },
      "execution_count": 93,
      "outputs": [
        {
          "output_type": "stream",
          "name": "stdout",
          "text": [
            "313/313 [==============================] - 2s 4ms/step - loss: 0.0622 - accuracy: 0.9808\n",
            "Test Accuracy: 0.9807999730110168\n"
          ]
        }
      ]
    },
    {
      "cell_type": "code",
      "source": [
        "!pip install keras\n",
        "!pip install pillow\n"
      ],
      "metadata": {
        "colab": {
          "base_uri": "https://localhost:8080/"
        },
        "id": "F6ncl35gXXH2",
        "outputId": "5d676819-d2aa-44fd-a1ac-6c4274e08479"
      },
      "execution_count": 98,
      "outputs": [
        {
          "output_type": "stream",
          "name": "stdout",
          "text": [
            "Looking in indexes: https://pypi.org/simple, https://us-python.pkg.dev/colab-wheels/public/simple/\n",
            "Requirement already satisfied: keras in /usr/local/lib/python3.10/dist-packages (2.12.0)\n",
            "Looking in indexes: https://pypi.org/simple, https://us-python.pkg.dev/colab-wheels/public/simple/\n",
            "Requirement already satisfied: pillow in /usr/local/lib/python3.10/dist-packages (8.4.0)\n"
          ]
        }
      ]
    },
    {
      "cell_type": "code",
      "source": [
        "from tensorflow.keras.utils import load_img\n",
        "from tensorflow.keras.utils import img_to_array"
      ],
      "metadata": {
        "id": "4WZzijc3U1vf"
      },
      "execution_count": 101,
      "outputs": []
    },
    {
      "cell_type": "code",
      "source": [
        "# load the image via load_img function\n",
        "img = load_img('digit9.jpeg', color_mode='grayscale')\n",
        "# convert the given image into numpy array\n",
        "NewImage = img_to_array(img)\n",
        "# convert the given image into numpy array and scalling\n",
        "NewImage = NewImage.reshape((1, 28 * 28))\n",
        "NewImage = NewImage.astype('float32') / 255\n",
        "# Prediction (Label / Answer / Output from the Network)\n",
        "Prediction = network.predict(NewImage)\n",
        "Prediction"
      ],
      "metadata": {
        "colab": {
          "base_uri": "https://localhost:8080/"
        },
        "id": "Epj9tMAhV4Ld",
        "outputId": "ef1f1e12-6961-43b5-fb3f-688300041cc9"
      },
      "execution_count": 103,
      "outputs": [
        {
          "output_type": "stream",
          "name": "stdout",
          "text": [
            "1/1 [==============================] - 0s 167ms/step\n"
          ]
        },
        {
          "output_type": "execute_result",
          "data": {
            "text/plain": [
              "array([[1.5060662e-09, 6.5987206e-06, 1.5016226e-06, 8.0180498e-06,\n",
              "        4.0489677e-03, 6.3247385e-06, 2.5648776e-09, 1.2170342e-05,\n",
              "        1.3434168e-04, 9.9578202e-01]], dtype=float32)"
            ]
          },
          "metadata": {},
          "execution_count": 103
        }
      ]
    },
    {
      "cell_type": "code",
      "source": [
        "# Output from the List of the Probability, Find out Maximum\n",
        "import numpy as np\n",
        "class_names = ['Zero','One', 'Two', 'Three', 'Four', 'Five',\n",
        " 'Six', 'Seven', 'Eight', 'Nine']\n",
        "PredictedDigit = class_names[np.argmax(Prediction)]\n",
        "PredictedDigit"
      ],
      "metadata": {
        "colab": {
          "base_uri": "https://localhost:8080/",
          "height": 35
        },
        "id": "e-rio2t6X81G",
        "outputId": "e8bfdc47-c05f-465f-a8c1-acde7c0647cc"
      },
      "execution_count": 105,
      "outputs": [
        {
          "output_type": "execute_result",
          "data": {
            "text/plain": [
              "'Nine'"
            ],
            "application/vnd.google.colaboratory.intrinsic+json": {
              "type": "string"
            }
          },
          "metadata": {},
          "execution_count": 105
        }
      ]
    },
    {
      "cell_type": "code",
      "source": [
        "network.save('HandDigitRecorgnitionModel.h5')"
      ],
      "metadata": {
        "id": "T19W4iPLYG64"
      },
      "execution_count": 106,
      "outputs": []
    },
    {
      "cell_type": "code",
      "source": [],
      "metadata": {
        "id": "Bt6JxisrYR4c"
      },
      "execution_count": null,
      "outputs": []
    }
  ]
}